import pandas as pd
import wikipedia

#Wikipedia articles to be clustered
articles=['supervised learning','unsupervised learning','semi-supervised learning','association rule learning',
          'anomaly detection','cluster analysis','dimensionality reduction','regression analysis',
         'statistical classification','data mining','data warehouse','online analytical processing']
wiki_lst=[]
title=[]

# Load wikipedia articles
for article in articles:
   print("loading content: ",article)
   wiki_lst.append(wikipedia.page(article).content)
   title.append(article)
