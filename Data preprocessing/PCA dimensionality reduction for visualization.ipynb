{
 "cells": [
  {
   "attachments": {},
   "cell_type": "markdown",
   "metadata": {},
   "source": [
    "A statistical procedure that uses linear transformation to convert a set of observations of correlated variables into a set of values of linearly uncorrelated variables called principal components. The original data is projected into a much smaller space to reduce dimensionality and it tries to combine the relationships of the data that can reveal relationships."
   ]
  },
  {
   "cell_type": "markdown",
   "metadata": {},
   "source": [
    "As the PCA reduces the dimensionality so there is loss of data. In this case, the dimensionality is reduced from multiple 9 to 2 in this case. The expected variance suggests that the first PCA component consists of 65.45 % of the variance and the second PCA component comprises of 8.6%. This means total of 74.05% of the data is lost during dimensionality reduction."
   ]
  },
  {
   "cell_type": "code",
   "execution_count": 5,
   "metadata": {},
   "outputs": [
    {
     "name": "stdout",
     "output_type": "stream",
     "text": [
      "Clase values are: [2 4]\n"
     ]
    }
   ],
   "source": [
    "import pandas as pd\n",
    "import numpy as np\n",
    "from sklearn import preprocessing\n",
    "from sklearn.preprocessing import StandardScaler\n",
    "from sklearn.decomposition import PCA\n",
    "import matplotlib.pyplot as plt\n",
    "\n",
    "df = pd.read_csv('https://archive.ics.uci.edu/ml/machine-learning-databases/breast-cancer-wisconsin/breast-cancer-wisconsin.data', header=None)\n",
    "df.columns = ['Sample code', 'Clump Thickness', 'Uniformity of Cell Size', 'Uniformity of Cell Shape',\n",
    "                'Marginal Adhesion', 'Single Epithelial Cell Size', 'Bare Nuclei', 'Bland Chromatin',\n",
    "                'Normal Nucleoli', 'Mitoses','Class']\n",
    "\n",
    "#Pre-processing to clean up data\n",
    "df = df.drop(['Sample code'],axis=1)\n",
    "df = df.replace('?',np.NaN)    \n",
    "df['Bare Nuclei']= df['Bare Nuclei'].fillna(df['Bare Nuclei'].median())\n",
    "\n",
    "#print the class values\n",
    "print('Clase values are: {}'.format(df['Class'].unique()))\n",
    "\n",
    "#Split the dataframe into X and Y to be able to calculate the PCA on the data excluding the target (Class)\n",
    "X = df.iloc[:,:-1]\n",
    "Y = df.iloc[:,-1]\n",
    "\n",
    "#columns of X\n",
    "X.columns = ['Clump Thickness', 'Uniformity of Cell Size', 'Uniformity of Cell Shape',\n",
    "                'Marginal Adhesion', 'Single Epithelial Cell Size', 'Bare Nuclei', 'Bland Chromatin',\n",
    "                'Normal Nucleoli', 'Mitoses']\n",
    "\n",
    "#z-score, also termed as standardization\n",
    "std_scaler = preprocessing.StandardScaler()\n",
    "std_scaled = std_scaler.fit_transform(X)\n",
    "X_standardized = pd.DataFrame(std_scaled, columns = X.columns)"
   ]
  },
  {
   "cell_type": "code",
   "execution_count": 6,
   "metadata": {},
   "outputs": [
    {
     "name": "stdout",
     "output_type": "stream",
     "text": [
      "Explained variance ratio for each component is [0.65445704 0.0860859 ]\n"
     ]
    },
    {
     "data": {
      "text/plain": [
       "<matplotlib.legend.Legend at 0x7f9462b5e2e0>"
      ]
     },
     "execution_count": 6,
     "metadata": {},
     "output_type": "execute_result"
    },
    {
     "data": {
      "image/png": "[encoded data removed]",
      "text/plain": [
       "<Figure size 432x288 with 1 Axes>"
      ]
     },
     "metadata": {
      "needs_background": "light"
     },
     "output_type": "display_data"
    }
   ],
   "source": [
    "#Compute the explained variance ratio for each component\n",
    "pca = PCA(n_components=2)\n",
    "pca_components = pca.fit_transform(X_standardized)\n",
    "pca_df = pd.DataFrame(data=pca_components,columns=['pc1','pc2'])\n",
    "print('Explained variance ratio for each component is {}'.format(pca.explained_variance_ratio_))\n",
    "\n",
    "#concatenate the X and Y matrices\n",
    "df_XY = pd.concat([X_standardized, Y], axis=1)\n",
    "\n",
    "#Scatterplot of all samples along the two principal components, color-coded according to the \"Class\" column\n",
    "#to plot the projected values \n",
    "targets = [2,4]\n",
    "colors = ['b','r']\n",
    "for target,color in zip(targets,colors):   \n",
    "    indicestokeep = df_XY['Class'] == target\n",
    "    plt.scatter(pca_df.loc[indicestokeep,'pc1'],pca_df.loc[indicestokeep,'pc2'],c=color,s=None)\n",
    "plt.legend(targets)"
   ]
  },
  {
   "cell_type": "code",
   "execution_count": null,
   "metadata": {},
   "outputs": [],
   "source": []
  }
 ],
 "metadata": {
  "kernelspec": {
   "display_name": "Python 3",
   "language": "python",
   "name": "python3"
  },
  "language_info": {
   "codemirror_mode": {
    "name": "ipython",
    "version": 3
   },
   "file_extension": ".py",
   "mimetype": "text/x-python",
   "name": "python",
   "nbconvert_exporter": "python",
   "pygments_lexer": "ipython3",
   "version": "3.8.3"
  }
 },
 "nbformat": 4,
 "nbformat_minor": 4
}
