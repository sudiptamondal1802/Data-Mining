{
 "cells": [
  {
   "attachments": {},
   "cell_type": "markdown",
   "metadata": {},
   "source": [
    "When integrating data redundancy is a common problem. This can be detected by covariance and correlation analysis. One of the methods is Chi sqaure test which states \"Given two attributes A and B chi-square tests the hypothesis that the two attributes are independent, i.e., there is no correlation between the two\". If any chi-square test value is greater than significance level then reject the hypothesis as the data are correlated and dependent.\n",
    "\n",
    "\n",
    "Another method is correlation coefficient. It is a way to identify the relationship between the attributes. \n",
    "For instance, in below example we first load the data source, shoesize.csv, which includes measurements of shoe size and height (in inches) for 408 subjects, both female and male. Plot the scatterplots of shoe size versus height for female and male subjects separately and then compute the Pearson's correlation coefficient of shoe size versus height for female and male subjects separately. Coefficient correlation is always between −1 and 1. \n",
    "- If the value is zero it means the attributes are independent with no correlation\n",
    "- If greater than 0 it means the attributes are positively correlated\n",
    "- If less than 0 it means the attributes are negatively correlated\n",
    "\n",
    "In the below example, the correlation coefficient and scatterplot for both male and female suggest that the shoe size increases with height"
   ]
  },
  {
   "cell_type": "code",
   "execution_count": 1,
   "metadata": {},
   "outputs": [
    {
     "data": {
      "image/png": "[encoded data removed]",
      "text/plain": [
       "<Figure size 432x288 with 1 Axes>"
      ]
     },
     "metadata": {
      "needs_background": "light"
     },
     "output_type": "display_data"
    },
    {
     "name": "stdout",
     "output_type": "stream",
     "text": [
      "For female Pearson\"s correlation coefficient is 0.7078119417143971\n"
     ]
    },
    {
     "data": {
      "image/png": "[encoded data removed]",
      "text/plain": [
       "<Figure size 432x288 with 1 Axes>"
      ]
     },
     "metadata": {
      "needs_background": "light"
     },
     "output_type": "display_data"
    },
    {
     "name": "stdout",
     "output_type": "stream",
     "text": [
      "For male Pearson\"s correlation coefficient is 0.7677093547300977\n"
     ]
    }
   ],
   "source": [
    "import pandas as pd\n",
    "import matplotlib.pyplot as plt\n",
    "from scipy import stats\n",
    "\n",
    "#Load the CSV file shoesize.csv\n",
    "df = pd.read_csv('./shoesize.csv')\n",
    "df.columns = ['Index','Gender','Size','Height']\n",
    "\n",
    "df_female = df.loc[df['Gender'] == 'F']\n",
    "df_male   = df.loc[df['Gender'] == 'M']\n",
    "\n",
    "#Plot the scatterplots of shoe size versus height for female \n",
    "plt.scatter(df_female['Size'], df_female['Height'],color='red')\n",
    "plt.title(\"Shoe size versus height for Female\")\n",
    "plt.xlabel(\"Shoe size\")\n",
    "plt.ylabel(\"Height\")\n",
    "plt.show()\n",
    "\n",
    "#Compute the Pearson's correlation coefficient of shoe size versus height for female \n",
    "cor_coef_female,p_value_female = stats.pearsonr(df_female['Size'], df_female['Height'])\n",
    "print('For female Pearson\"s correlation coefficient is {}'.format(cor_coef_female))\n",
    "\n",
    "#Plot the scatterplots of shoe size versus height for male\n",
    "plt.scatter(df_male['Size'], df_male['Height'],color='blue')\n",
    "plt.title(\"Shoe size versus height for Male\")\n",
    "plt.xlabel(\"Shoe size\")\n",
    "plt.ylabel(\"Height\")\n",
    "plt.show()\n",
    "\n",
    "#Compute the Pearson's correlation coefficient of shoe size versus height for male\n",
    "cor_coef_male,p_value_male = stats.pearsonr(df_male['Size'], df_male['Height'])\n",
    "print('For male Pearson\"s correlation coefficient is {}'.format(cor_coef_male))"
   ]
  },
  {
   "cell_type": "markdown",
   "metadata": {},
   "source": [
    "### Computing the correlation coeeficient"
   ]
  },
  {
   "cell_type": "code",
   "execution_count": 2,
   "metadata": {},
   "outputs": [
    {
     "name": "stdout",
     "output_type": "stream",
     "text": [
      "Age mean: 45.3125\n",
      "BMI mean: 23.875\n",
      "Standard deviation of age: 13.479459682544153\n",
      "Standard deviation of BMI: 3.8275318418009276\n",
      "825.4889783233531\n",
      "689.625\n",
      "The correlation coefficient is: 0.8354139402329686\n",
      "Age and BMI are positvely correlated\n"
     ]
    }
   ],
   "source": [
    "import numpy as np\n",
    "import pandas as pd\n",
    "\n",
    "age = np.array([23,23,27,27,39,41,47,49,52,54,54,56,57,58,58,60])\n",
    "ageSeries = pd.Series(age)\n",
    "bmi = np.array([16,19,18,21,24,23,26,25,24,26,23,26,27,31,26,27])\n",
    "bmiSeries = pd.Series(bmi)\n",
    "\n",
    "n = len(age)  #number of tuples\n",
    "\n",
    "age_mean = ageSeries.mean()  # mean value of age\n",
    "bmi_mean = bmiSeries.mean()  # mean value of bmi\n",
    "\n",
    "print('Age mean: {}'.format(age_mean))\n",
    "print('BMI mean: {}'.format(bmi_mean))\n",
    "\n",
    "age_std = ageSeries.std()    # Standard deviation of age\n",
    "bmi_std = bmiSeries.std()    # Standard deviation of bmi\n",
    "\n",
    "print('Standard deviation of age: {}'.format(age_std))\n",
    "print('Standard deviation of BMI: {}'.format(bmi_std))\n",
    "\n",
    "denominator = n * age_std * bmi_std\n",
    "print(denominator)\n",
    "numerator = 0\n",
    "for i in range(0,n):\n",
    "    numerator += ((age[i]-age_mean) * (bmi[i]-bmi_mean))\n",
    "\n",
    "print(numerator)\n",
    "\n",
    "correlation_coefficient = numerator/denominator\n",
    "print('The correlation coefficient is: {}'.format(correlation_coefficient))\n",
    "\n",
    "if(correlation_coefficient > 0):\n",
    "    print('Age and BMI are positvely correlated')\n",
    "elif(correlation_coefficient == 0):\n",
    "    print('Age and BMI are independent')\n",
    "elif(correlation_coefficient < 0):\n",
    "    print('Age and BMI are negatively correlated')"
   ]
  },
  {
   "cell_type": "markdown",
   "metadata": {},
   "source": [
    "### Computing chi-square"
   ]
  },
  {
   "cell_type": "code",
   "execution_count": 4,
   "metadata": {},
   "outputs": [
    {
     "name": "stdout",
     "output_type": "stream",
     "text": [
      "Chi sqaure statistic is: 0.10857544087742113\n"
     ]
    }
   ],
   "source": [
    "ohospitalA       = np.array([71,37])\n",
    "ohospitalB       = np.array([129,73])\n",
    "osatisfied       = np.array([71,129])\n",
    "odissatisfied    = np.array([37,73])\n",
    "data             = np.array([71,129,37,73])\n",
    "\n",
    "totalOfdata         = np.sum(data)\n",
    "totalOfhospitalA    = np.sum(ohospitalA)\n",
    "totalOfhospitalB    = np.sum(ohospitalB)\n",
    "totalOfsatisfied    = np.sum(osatisfied)\n",
    "totalOfdissatisfied = np.sum(odissatisfied)\n",
    "\n",
    "\n",
    "efhospitalASatisfied      = (totalOfhospitalA*totalOfsatisfied)/totalOfdata\n",
    "efhospitalADissatisfied   = (totalOfhospitalA*totalOfdissatisfied)/totalOfdata\n",
    "efhospitalBSatisfied      = (totalOfhospitalB*totalOfsatisfied)/totalOfdata\n",
    "efhospitalBDissatisfied   = (totalOfhospitalB*totalOfdissatisfied)/totalOfdata\n",
    "\n",
    "chi_square_test = (((ohospitalA[0]-efhospitalASatisfied)**2)/efhospitalASatisfied)       + \\\n",
    "                  (((ohospitalB[0]-efhospitalBSatisfied)**2)/efhospitalBSatisfied)       + \\\n",
    "                  (((ohospitalA[1]-efhospitalADissatisfied)**2)/efhospitalADissatisfied) + \\\n",
    "                  (((ohospitalB[1]-efhospitalBDissatisfied)**2)/efhospitalBDissatisfied)\n",
    "\n",
    "print('Chi sqaure statistic is: {}'.format(chi_square_test))\n"
   ]
  },
  {
   "cell_type": "code",
   "execution_count": null,
   "metadata": {},
   "outputs": [],
   "source": []
  }
 ],
 "metadata": {
  "kernelspec": {
   "display_name": "Python 3",
   "language": "python",
   "name": "python3"
  },
  "language_info": {
   "codemirror_mode": {
    "name": "ipython",
    "version": 3
   },
   "file_extension": ".py",
   "mimetype": "text/x-python",
   "name": "python",
   "nbconvert_exporter": "python",
   "pygments_lexer": "ipython3",
   "version": "3.8.3"
  }
 },
 "nbformat": 4,
 "nbformat_minor": 4
}
